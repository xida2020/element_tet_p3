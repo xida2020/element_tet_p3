{
  "cells": [
    {
      "cell_type": "markdown",
      "metadata": {
        "id": "view-in-github",
        "colab_type": "text"
      },
      "source": [
        "<a href=\"https://colab.research.google.com/github/xida2020/element_tet_p3/blob/main/zhou_adaptive_tet.ipynb\" target=\"_parent\"><img src=\"https://colab.research.google.com/assets/colab-badge.svg\" alt=\"Open In Colab\"/></a>"
      ]
    },
    {
      "cell_type": "markdown",
      "metadata": {
        "id": "fydEEMFUStPZ"
      },
      "source": [
        "# Solve Laplace eigenvalue problem on the uniform meshes\n",
        "$-\\frac12\\Delta u = \\lambda u $, in $\\Omega = (-5,5)^3$\n",
        "$\\backslash(0,5)^3$\n",
        "\n",
        "and\n",
        "$u = 0$, on $\\partial\\Omega.$\n",
        "\n",
        "The first eigenvalue $\\lambda_1\\approx0.2106412625$"
      ]
    },
    {
      "cell_type": "markdown",
      "metadata": {
        "id": "ZyedMyz3StPn"
      },
      "source": [
        "# Install scikit-fem:"
      ]
    },
    {
      "cell_type": "code",
      "execution_count": 8,
      "metadata": {
        "colab": {
          "base_uri": "https://localhost:8080/"
        },
        "id": "hKxKX8saStPq",
        "outputId": "17e30983-1297-4505-ad30-a1c7c17bfaa1"
      },
      "outputs": [
        {
          "output_type": "stream",
          "name": "stdout",
          "text": [
            "Requirement already satisfied: scikit-fem[all] in /usr/local/lib/python3.7/dist-packages (6.0.0)\n",
            "Requirement already satisfied: scipy in /usr/local/lib/python3.7/dist-packages (from scikit-fem[all]) (1.4.1)\n",
            "Requirement already satisfied: numpy in /usr/local/lib/python3.7/dist-packages (from scikit-fem[all]) (1.21.5)\n",
            "Requirement already satisfied: matplotlib in /usr/local/lib/python3.7/dist-packages (from scikit-fem[all]) (3.2.2)\n",
            "Requirement already satisfied: meshio>=4.0.4 in /usr/local/lib/python3.7/dist-packages (from scikit-fem[all]) (5.3.4)\n",
            "Requirement already satisfied: rich in /usr/local/lib/python3.7/dist-packages (from meshio>=4.0.4->scikit-fem[all]) (12.2.0)\n",
            "Requirement already satisfied: importlib-metadata in /usr/local/lib/python3.7/dist-packages (from meshio>=4.0.4->scikit-fem[all]) (4.11.3)\n",
            "Requirement already satisfied: zipp>=0.5 in /usr/local/lib/python3.7/dist-packages (from importlib-metadata->meshio>=4.0.4->scikit-fem[all]) (3.8.0)\n",
            "Requirement already satisfied: typing-extensions>=3.6.4 in /usr/local/lib/python3.7/dist-packages (from importlib-metadata->meshio>=4.0.4->scikit-fem[all]) (4.1.1)\n",
            "Requirement already satisfied: python-dateutil>=2.1 in /usr/local/lib/python3.7/dist-packages (from matplotlib->scikit-fem[all]) (2.8.2)\n",
            "Requirement already satisfied: kiwisolver>=1.0.1 in /usr/local/lib/python3.7/dist-packages (from matplotlib->scikit-fem[all]) (1.4.2)\n",
            "Requirement already satisfied: pyparsing!=2.0.4,!=2.1.2,!=2.1.6,>=2.0.1 in /usr/local/lib/python3.7/dist-packages (from matplotlib->scikit-fem[all]) (3.0.8)\n",
            "Requirement already satisfied: cycler>=0.10 in /usr/local/lib/python3.7/dist-packages (from matplotlib->scikit-fem[all]) (0.11.0)\n",
            "Requirement already satisfied: six>=1.5 in /usr/local/lib/python3.7/dist-packages (from python-dateutil>=2.1->matplotlib->scikit-fem[all]) (1.15.0)\n",
            "Requirement already satisfied: pygments<3.0.0,>=2.6.0 in /usr/local/lib/python3.7/dist-packages (from rich->meshio>=4.0.4->scikit-fem[all]) (2.6.1)\n",
            "Requirement already satisfied: commonmark<0.10.0,>=0.9.0 in /usr/local/lib/python3.7/dist-packages (from rich->meshio>=4.0.4->scikit-fem[all]) (0.9.1)\n"
          ]
        }
      ],
      "source": [
        "!pip install scikit-fem[all]"
      ]
    },
    {
      "cell_type": "markdown",
      "source": [
        "# element_tet_p3"
      ],
      "metadata": {
        "id": "FuwuznQUWUCW"
      }
    },
    {
      "cell_type": "code",
      "source": [
        "import numpy as np\n",
        "\n",
        "from skfem.element.element_h1 import ElementH1\n",
        "from skfem.refdom import RefTet\n",
        "\n",
        "\n",
        "class ElementTetP3(ElementH1):\n",
        "    \"\"\"Piecewise cubic element.\"\"\"\n",
        "\n",
        "    nodal_dofs = 1\n",
        "    facet_dofs = 1\n",
        "    edge_dofs = 2\n",
        "    maxdeg = 3\n",
        "    dofnames = [\"u\", \"u\", \"u\", \"u\"]\n",
        "    doflocs = np.array([[0., 0., 0.], #nodal O  ==0\n",
        "                        [1., 0., 0.], #nodal x  ==1\n",
        "                        [0., 1., 0.], #nodal y  ==2\n",
        "                        [0., 0., 1.], #nodal z  ==3\n",
        "                        [1./ 3, 0., 0.], #edge O->x  ==4\n",
        "                        [2./ 3, 0., 0.], #edge O->x  ==5\n",
        "                        [2./ 3, 1./ 3, 0.], #edge x->y  ==6\n",
        "                        [1./ 3, 2./ 3, 0.], #edge x->y  ==7\n",
        "                        [0., 1./ 3, 0.], #edge O->y  ==8\n",
        "                        [0., 2./ 3, 0.], #edge O->y  ==9\n",
        "                        [0., 0., 1./ 3], #edge O->z  ==10\n",
        "                        [0., 0., 2./ 3], #edge O->z  ==11\n",
        "                        [2./ 3, 0., 1./ 3], #edge x->z  ==12\n",
        "                        [1./ 3, 0., 2./ 3], #edge x->z  ==13\n",
        "                        [0., 2./ 3, 1./ 3], #edge y->z  ==14\n",
        "                        [0., 1./ 3, 2./ 3], #edge y->z  ==15\n",
        "                        [1./ 3, 1./ 3, 0.], #facet Oxy  ==16\n",
        "                        [1./ 3, 0., 1./ 3], #facet Oxz  ==17\n",
        "                        [0., 1./ 3, 1./ 3], #facet Oyz  ==18\n",
        "                        [1./ 3, 1./ 3, 1./ 3]]) #facet xyz  ==19\n",
        "    refdom = RefTet\n",
        "\n",
        "    def lbasis(self, X, i):\n",
        "        x, y, z = X\n",
        "\n",
        "        if i == 0:  # at (0,0,0)\n",
        "            phi = -(3.*x + 3.*y + 3.*z - 1.)*(3.*x + 3.*y + 3.*z - 2.)*(x/2 + y/2 + z/2 - 1./2)\n",
        "            dphi = np.array([\n",
        "                18.*x + 18.*y + 18.*z - 27.*x*y - 27.*x*z - 27.*y*z \n",
        "                - (27.*x**2)/2 - (27.*y**2)/2 - (27.*z**2)/2 - 11./2,\n",
        "                18.*x + 18.*y + 18.*z - 27.*x*y - 27.*x*z - 27.*y*z \n",
        "                - (27.*x**2)/2 - (27.*y**2)/2 - (27.*z**2)/2 - 11./2,\n",
        "                18.*x + 18.*y + 18.*z - 27.*x*y - 27.*x*z - 27.*y*z \n",
        "                - (27.*x**2)/2 - (27.*y**2)/2 - (27.*z**2)/2 - 11./2\n",
        "            ])\n",
        "        elif i == 1:  # at (1,0,0)\n",
        "            phi = (x*(3.*x - 1.)*(3.*x - 2))/2\n",
        "            dphi = np.array([\n",
        "                (27.*x**2)/2 - 9.*x + 1.,\n",
        "                0*y,\n",
        "                0*z\n",
        "            ])\n",
        "        elif i == 2:  # at (0,1,0)\n",
        "            phi = (y*(3.*y - 1.)*(3.*y - 2.))/2\n",
        "            dphi = np.array([\n",
        "                0*x,\n",
        "                (27.*y**2)/2 - 9.*y + 1.,\n",
        "                0*z\n",
        "            ])\n",
        "        elif i == 3:  # at (0, 0, 1)\n",
        "            phi = (z*(3.*z - 1.)*(3.*z - 2.))/2\n",
        "            dphi = np.array([\n",
        "                0*x,\n",
        "                0*x,\n",
        "                (27.*z**2)/2 - 9.*z + 1.\n",
        "            ])\n",
        "        elif i == 4:  # at (1/3, 0, 0)\n",
        "            phi = x*(3.*x + 3.*y + 3.*z - 2.)*((9.*x)/2 + (9.*y)/2 + (9.*z)/2 - 9./2)\n",
        "            dphi = np.array([\n",
        "                (81.*x**2)/2 + 54.*x*y + 54.*x*z - 45.*x + (27.*y**2)/2 \n",
        "                + 27.*y*z - (45.*y)/2 + (27.*z**2)/2 - (45.*z)/2 + 9.,\n",
        "                (9.*x*(6.*x + 6.*y + 6.*z - 5.))/2,\n",
        "                (9.*x*(6.*x + 6.*y + 6.*z - 5.))/2\n",
        "            ])\n",
        "        elif i == 5:  # at (2/3, 0, 0)\n",
        "            phi = -(9.*x*(3.*x - 1.)*(x + y + z - 1.))/2\n",
        "            dphi = np.array([\n",
        "                36.*x + (9.*y)/2 + (9.*z)/2 - 27.*x*y - 27.*x*z - (81.*x**2)/2 - 9./2,\n",
        "                -(9.*x*(3.*x - 1.))/2,\n",
        "                -(9.*x*(3.*x - 1.))/2\n",
        "            ])\n",
        "        elif i == 6:  # at (2/3, 1/3, 0)\n",
        "            phi = (9.*x*y*(3.*x - 1.))/2\n",
        "            dphi = np.array([\n",
        "                (9.*y*(6.*x - 1.))/2,\n",
        "                (9.*x*(3.*x - 1.))/2,\n",
        "                0*z\n",
        "            ])\n",
        "        elif i == 7:  # at (1/3, 2/3, 0)\n",
        "            phi = (9.*x*y*(3.*y - 1.))/2\n",
        "            dphi = np.array([\n",
        "                (9.*y*(3.*y - 1.))/2,\n",
        "                (9.*x*(6.*y - 1.))/2,\n",
        "                0*z\n",
        "            ])\n",
        "        elif i == 8:  # at (0, 1/3, 0)\n",
        "            phi = y*(3.*x + 3.*y + 3.*z - 2.)*((9.*x)/2 + (9.*y)/2 + (9.*z)/2 - 9./2)\n",
        "            dphi = np.array([\n",
        "                (9.*y*(6.*x + 6.*y + 6.*z - 5.))/2,\n",
        "                (27.*x**2)/2 + 54.*x*y + 27.*x*z - (45.*x)/2 + (81.*y**2)/2 \n",
        "                + 54.*y*z - 45.*y + (27.*z**2)/2 - (45.*z)/2 + 9.,\n",
        "                (9.*y*(6.*x + 6.*y + 6.*z - 5.))/2\n",
        "            ])\n",
        "        elif i == 9:  # at (0, 2/3, 0)\n",
        "            phi = -(9.*y*(3.*y - 1.)*(x + y + z - 1.))/2\n",
        "            dphi = np.array([\n",
        "                -(9.*y*(3.*y - 1.))/2,\n",
        "                (9.*x)/2 + 36.*y + (9.*z)/2 - 27.*x*y - 27.*y*z - (81.*y**2)/2 - 9./2,\n",
        "                -(9.*y*(3.*y - 1.))/2\n",
        "            ])\n",
        "        elif i == 10:  # at (0, 0, 1/3)\n",
        "            phi = z*(3.*x + 3.*y + 3.*z - 2.)*((9.*x)/2 + (9.*y)/2 + (9.*z)/2 - 9./2)\n",
        "            dphi = np.array([\n",
        "                (9.*z*(6.*x + 6.*y + 6.*z - 5.))/2,\n",
        "                (9.*z*(6.*x + 6.*y + 6.*z - 5.))/2,\n",
        "                (27.*x**2)/2 + 27.*x*y + 54.*x*z - (45.*x)/2 \n",
        "                + (27.*y**2)/2 + 54.*y*z - (45.*y)/2 + (81.*z**2)/2 - 45.*z + 9.\n",
        "            ])\n",
        "        elif i == 11:  # at (0, 0, 2/3)\n",
        "            phi = -(9.*z*(3.*z - 1.)*(x + y + z - 1.))/2\n",
        "            dphi = np.array([\n",
        "                -(9.*z*(3.*z - 1.))/2,\n",
        "                -(9.*z*(3.*z - 1.))/2,\n",
        "                (9.*x)/2 + (9.*y)/2 + 36.*z - 27.*x*z - 27.*y*z \n",
        "                - (81.*z**2)/2 - 9./2\n",
        "            ])\n",
        "        elif i == 12:  # at (2/3, 0, 1/3)\n",
        "            phi = (9.*x*z*(3.*x - 1.))/2\n",
        "            dphi = np.array([\n",
        "                (9.*z*(6.*x - 1.))/2,\n",
        "                0*y,\n",
        "                (9.*x*(3.*x - 1.))/2\n",
        "            ])\n",
        "        elif i == 13:  # at (1/3, 0.0, 2/3)\n",
        "            phi = (9.*x*z*(3.*z - 1.))/2\n",
        "            dphi = np.array([\n",
        "                (9.*z*(3.*z - 1.))/2,\n",
        "                0*y,\n",
        "                (9.*x*(6.*z - 1.))/2\n",
        "            ])\n",
        "        elif i == 14:  # at (0, 2/3, 1/3)\n",
        "            phi = (9.*y*z*(3.*y - 1.))/2\n",
        "            dphi = np.array([\n",
        "                0*x,\n",
        "                (9.*z*(6.*y - 1.))/2,\n",
        "                (9.*y*(3.*y - 1.))/2\n",
        "            ])\n",
        "        elif i == 15:  # at (0, 1/3, 2/3)\n",
        "            phi = (9.*y*z*(3.*z - 1.))/2\n",
        "            dphi = np.array([\n",
        "                0*x,\n",
        "                (9.*z*(3.*z - 1.))/2,\n",
        "                (9.*y*(6.*z - 1.))/2\n",
        "            ])\n",
        "        elif i == 16:  # at (1/3, 1/3, 0)\n",
        "            phi = -x*y*(27.*x + 27.*y + 27.*z - 27.)\n",
        "            dphi = np.array([\n",
        "                -27.*y*(2.*x + y + z - 1.),\n",
        "                -27.*x*(x + 2.*y + z - 1.),\n",
        "                -27.*x*y\n",
        "            ])\n",
        "        elif i == 17:  # at (1/3, 0, 1/3)\n",
        "            phi = -x*z*(27.*x + 27.*y + 27.*z - 27.)\n",
        "            dphi = np.array([\n",
        "                -27.*z*(2.*x + y + z - 1.),\n",
        "                -27.*x*z,\n",
        "                -27.*x*(x + y + 2.*z - 1.)\n",
        "            ])\n",
        "        elif i == 18:  # at (0, 1/3, 1/3)\n",
        "            phi = -y*z*(27.*x + 27.*y + 27.*z - 27.)\n",
        "            dphi = np.array([\n",
        "                -27.*y*z,\n",
        "                -27.*z*(x + 2.*y + z - 1.),\n",
        "                -27.*y*(x + y + 2.*z - 1.)\n",
        "            ]) \n",
        "        elif i == 19:  # at (1/3, 1/3, 1/3)\n",
        "            phi = 27.*x*y*z\n",
        "            dphi = np.array([\n",
        "                27.*y*z,\n",
        "                27.*x*z,\n",
        "                27.*x*y\n",
        "            ])\n",
        "        else:\n",
        "            self._index_error()\n",
        "\n",
        "        return phi, dphi"
      ],
      "metadata": {
        "id": "cvJoDuw2WbcL"
      },
      "execution_count": 3,
      "outputs": []
    },
    {
      "cell_type": "markdown",
      "source": [
        "# solve Laplace eigenvalue problem on uniform meshes\n",
        "$\\Delta u = \\lambda u $, in $\\Omega = (0,1)^3$\n",
        "and\n",
        "$u = 0$, on $\\partial\\Omega.$\n",
        "The first eigenvalue $\\lambda_1=3\\pi^2\\approx29.608813203268074$"
      ],
      "metadata": {
        "id": "YllVI2NgHAGe"
      }
    },
    {
      "cell_type": "markdown",
      "source": [
        "# Using p3 elements uniformly"
      ],
      "metadata": {
        "id": "zdWnN5nOHIrF"
      }
    },
    {
      "cell_type": "code",
      "source": [
        "from skfem import *\n",
        "from skfem.models.poisson import laplace, mass\n",
        "import numpy as np\n",
        "\n",
        "\n",
        "for itr in range(10):\n",
        "  p1 = np.linspace(0, 5, itr+2)\n",
        "  m1 = MeshTet.init_tensor(*(p1,) * 3)\n",
        "  m2 = m1.mirrored([0,0,1])\n",
        "  m3 = m1.mirrored([0,1,0])\n",
        "  m4 = m1.mirrored([1,0,0])\n",
        "  m5 = m1.mirrored([0,1,1])\n",
        "  m6 = m1.mirrored([1,0,1])\n",
        "  m7 = m1.mirrored([1,1,0])\n",
        "  m8 = m7.mirrored([0,0,1])\n",
        "  m = m8+m2+m3+m4+m5+m6+m7\n",
        "  e = ElementTetP3()\n",
        "  basis = Basis(m, e) \n",
        "  K = asm(laplace, basis)\n",
        "  M = asm(mass, basis)\n",
        "  D=basis.get_dofs()\n",
        "  Lh,eigen_uh = solve(*condense(0.5*K, M, D=D), solver=solver_eigen_scipy_sym(sigma=0,k=1))\n",
        "  Dof= K.shape[0]\n",
        "  error = np.abs(Lh-0.2106412625)\n",
        "  print(\"{},{},{},{}\".format(itr,Dof,Lh,error))"
      ],
      "metadata": {
        "id": "Gk7boskVHpI4",
        "outputId": "9d451fcf-4061-4a28-97e5-1a0c8ad9ad74",
        "colab": {
          "base_uri": "https://localhost:8080/",
          "height": 410
        }
      },
      "execution_count": 6,
      "outputs": [
        {
          "output_type": "error",
          "ename": "KeyboardInterrupt",
          "evalue": "ignored",
          "traceback": [
            "\u001b[0;31m---------------------------------------------------------------------------\u001b[0m",
            "\u001b[0;31mKeyboardInterrupt\u001b[0m                         Traceback (most recent call last)",
            "\u001b[0;32m<ipython-input-6-dc99d7379dc8>\u001b[0m in \u001b[0;36m<module>\u001b[0;34m()\u001b[0m\n\u001b[1;32m     20\u001b[0m   \u001b[0mM\u001b[0m \u001b[0;34m=\u001b[0m \u001b[0masm\u001b[0m\u001b[0;34m(\u001b[0m\u001b[0mmass\u001b[0m\u001b[0;34m,\u001b[0m \u001b[0mbasis\u001b[0m\u001b[0;34m)\u001b[0m\u001b[0;34m\u001b[0m\u001b[0;34m\u001b[0m\u001b[0m\n\u001b[1;32m     21\u001b[0m   \u001b[0mD\u001b[0m\u001b[0;34m=\u001b[0m\u001b[0mbasis\u001b[0m\u001b[0;34m.\u001b[0m\u001b[0mget_dofs\u001b[0m\u001b[0;34m(\u001b[0m\u001b[0;34m)\u001b[0m\u001b[0;34m\u001b[0m\u001b[0;34m\u001b[0m\u001b[0m\n\u001b[0;32m---> 22\u001b[0;31m   \u001b[0mLh\u001b[0m\u001b[0;34m,\u001b[0m\u001b[0meigen_uh\u001b[0m \u001b[0;34m=\u001b[0m \u001b[0msolve\u001b[0m\u001b[0;34m(\u001b[0m\u001b[0;34m*\u001b[0m\u001b[0mcondense\u001b[0m\u001b[0;34m(\u001b[0m\u001b[0;36m0.5\u001b[0m\u001b[0;34m*\u001b[0m\u001b[0mK\u001b[0m\u001b[0;34m,\u001b[0m \u001b[0mM\u001b[0m\u001b[0;34m,\u001b[0m \u001b[0mD\u001b[0m\u001b[0;34m=\u001b[0m\u001b[0mD\u001b[0m\u001b[0;34m)\u001b[0m\u001b[0;34m,\u001b[0m \u001b[0msolver\u001b[0m\u001b[0;34m=\u001b[0m\u001b[0msolver_eigen_scipy_sym\u001b[0m\u001b[0;34m(\u001b[0m\u001b[0msigma\u001b[0m\u001b[0;34m=\u001b[0m\u001b[0;36m0\u001b[0m\u001b[0;34m,\u001b[0m\u001b[0mk\u001b[0m\u001b[0;34m=\u001b[0m\u001b[0;36m1\u001b[0m\u001b[0;34m)\u001b[0m\u001b[0;34m)\u001b[0m\u001b[0;34m\u001b[0m\u001b[0;34m\u001b[0m\u001b[0m\n\u001b[0m\u001b[1;32m     23\u001b[0m   \u001b[0mDof\u001b[0m\u001b[0;34m=\u001b[0m \u001b[0mK\u001b[0m\u001b[0;34m.\u001b[0m\u001b[0mshape\u001b[0m\u001b[0;34m[\u001b[0m\u001b[0;36m0\u001b[0m\u001b[0;34m]\u001b[0m\u001b[0;34m\u001b[0m\u001b[0;34m\u001b[0m\u001b[0m\n\u001b[1;32m     24\u001b[0m   \u001b[0merror\u001b[0m \u001b[0;34m=\u001b[0m \u001b[0mnp\u001b[0m\u001b[0;34m.\u001b[0m\u001b[0mabs\u001b[0m\u001b[0;34m(\u001b[0m\u001b[0mLh\u001b[0m\u001b[0;34m-\u001b[0m\u001b[0;36m0.2106412625\u001b[0m\u001b[0;34m)\u001b[0m\u001b[0;34m\u001b[0m\u001b[0;34m\u001b[0m\u001b[0m\n",
            "\u001b[0;32m/usr/local/lib/python3.7/dist-packages/skfem/utils.py\u001b[0m in \u001b[0;36msolve\u001b[0;34m(A, b, x, I, solver, **kwargs)\u001b[0m\n\u001b[1;32m    227\u001b[0m     \u001b[0mlogger\u001b[0m\u001b[0;34m.\u001b[0m\u001b[0minfo\u001b[0m\u001b[0;34m(\u001b[0m\u001b[0;34m\"Solving linear system, shape={}.\"\u001b[0m\u001b[0;34m.\u001b[0m\u001b[0mformat\u001b[0m\u001b[0;34m(\u001b[0m\u001b[0mA\u001b[0m\u001b[0;34m.\u001b[0m\u001b[0mshape\u001b[0m\u001b[0;34m)\u001b[0m\u001b[0;34m)\u001b[0m\u001b[0;34m\u001b[0m\u001b[0;34m\u001b[0m\u001b[0m\n\u001b[1;32m    228\u001b[0m     \u001b[0;32mif\u001b[0m \u001b[0misinstance\u001b[0m\u001b[0;34m(\u001b[0m\u001b[0mb\u001b[0m\u001b[0;34m,\u001b[0m \u001b[0mspmatrix\u001b[0m\u001b[0;34m)\u001b[0m\u001b[0;34m:\u001b[0m\u001b[0;34m\u001b[0m\u001b[0;34m\u001b[0m\u001b[0m\n\u001b[0;32m--> 229\u001b[0;31m         \u001b[0mout\u001b[0m \u001b[0;34m=\u001b[0m \u001b[0msolve_eigen\u001b[0m\u001b[0;34m(\u001b[0m\u001b[0mA\u001b[0m\u001b[0;34m,\u001b[0m \u001b[0mb\u001b[0m\u001b[0;34m,\u001b[0m \u001b[0mx\u001b[0m\u001b[0;34m,\u001b[0m \u001b[0mI\u001b[0m\u001b[0;34m,\u001b[0m \u001b[0msolver\u001b[0m\u001b[0;34m,\u001b[0m \u001b[0;34m**\u001b[0m\u001b[0mkwargs\u001b[0m\u001b[0;34m)\u001b[0m  \u001b[0;31m# type: ignore\u001b[0m\u001b[0;34m\u001b[0m\u001b[0;34m\u001b[0m\u001b[0m\n\u001b[0m\u001b[1;32m    230\u001b[0m     \u001b[0;32melif\u001b[0m \u001b[0misinstance\u001b[0m\u001b[0;34m(\u001b[0m\u001b[0mb\u001b[0m\u001b[0;34m,\u001b[0m \u001b[0mndarray\u001b[0m\u001b[0;34m)\u001b[0m\u001b[0;34m:\u001b[0m\u001b[0;34m\u001b[0m\u001b[0;34m\u001b[0m\u001b[0m\n\u001b[1;32m    231\u001b[0m         \u001b[0mout\u001b[0m \u001b[0;34m=\u001b[0m \u001b[0msolve_linear\u001b[0m\u001b[0;34m(\u001b[0m\u001b[0mA\u001b[0m\u001b[0;34m,\u001b[0m \u001b[0mb\u001b[0m\u001b[0;34m,\u001b[0m \u001b[0mx\u001b[0m\u001b[0;34m,\u001b[0m \u001b[0mI\u001b[0m\u001b[0;34m,\u001b[0m \u001b[0msolver\u001b[0m\u001b[0;34m,\u001b[0m \u001b[0;34m**\u001b[0m\u001b[0mkwargs\u001b[0m\u001b[0;34m)\u001b[0m  \u001b[0;31m# type: ignore\u001b[0m\u001b[0;34m\u001b[0m\u001b[0;34m\u001b[0m\u001b[0m\n",
            "\u001b[0;32m/usr/local/lib/python3.7/dist-packages/skfem/utils.py\u001b[0m in \u001b[0;36msolve_eigen\u001b[0;34m(A, M, x, I, solver, **kwargs)\u001b[0m\n\u001b[1;32m    176\u001b[0m \u001b[0;34m\u001b[0m\u001b[0m\n\u001b[1;32m    177\u001b[0m     \u001b[0;32mif\u001b[0m \u001b[0mx\u001b[0m \u001b[0;32mis\u001b[0m \u001b[0;32mnot\u001b[0m \u001b[0;32mNone\u001b[0m \u001b[0;32mand\u001b[0m \u001b[0mI\u001b[0m \u001b[0;32mis\u001b[0m \u001b[0;32mnot\u001b[0m \u001b[0;32mNone\u001b[0m\u001b[0;34m:\u001b[0m\u001b[0;34m\u001b[0m\u001b[0;34m\u001b[0m\u001b[0m\n\u001b[0;32m--> 178\u001b[0;31m         \u001b[0mL\u001b[0m\u001b[0;34m,\u001b[0m \u001b[0mX\u001b[0m \u001b[0;34m=\u001b[0m \u001b[0msolver\u001b[0m\u001b[0;34m(\u001b[0m\u001b[0mA\u001b[0m\u001b[0;34m,\u001b[0m \u001b[0mM\u001b[0m\u001b[0;34m,\u001b[0m \u001b[0;34m**\u001b[0m\u001b[0mkwargs\u001b[0m\u001b[0;34m)\u001b[0m\u001b[0;34m\u001b[0m\u001b[0;34m\u001b[0m\u001b[0m\n\u001b[0m\u001b[1;32m    179\u001b[0m         \u001b[0my\u001b[0m \u001b[0;34m=\u001b[0m \u001b[0mnp\u001b[0m\u001b[0;34m.\u001b[0m\u001b[0mtile\u001b[0m\u001b[0;34m(\u001b[0m\u001b[0mx\u001b[0m\u001b[0;34m.\u001b[0m\u001b[0mcopy\u001b[0m\u001b[0;34m(\u001b[0m\u001b[0;34m)\u001b[0m\u001b[0;34m[\u001b[0m\u001b[0;34m:\u001b[0m\u001b[0;34m,\u001b[0m \u001b[0;32mNone\u001b[0m\u001b[0;34m]\u001b[0m\u001b[0;34m,\u001b[0m \u001b[0;34m(\u001b[0m\u001b[0;36m1\u001b[0m\u001b[0;34m,\u001b[0m \u001b[0mX\u001b[0m\u001b[0;34m.\u001b[0m\u001b[0mshape\u001b[0m\u001b[0;34m[\u001b[0m\u001b[0;36m1\u001b[0m\u001b[0;34m]\u001b[0m\u001b[0;34m)\u001b[0m\u001b[0;34m)\u001b[0m\u001b[0;34m\u001b[0m\u001b[0;34m\u001b[0m\u001b[0m\n\u001b[1;32m    180\u001b[0m         \u001b[0my\u001b[0m\u001b[0;34m[\u001b[0m\u001b[0mI\u001b[0m\u001b[0;34m]\u001b[0m \u001b[0;34m=\u001b[0m \u001b[0mX\u001b[0m\u001b[0;34m\u001b[0m\u001b[0;34m\u001b[0m\u001b[0m\n",
            "\u001b[0;32m/usr/local/lib/python3.7/dist-packages/skfem/utils.py\u001b[0m in \u001b[0;36msolver\u001b[0;34m(K, M, **solve_time_kwargs)\u001b[0m\n\u001b[1;32m     99\u001b[0m         \u001b[0mparams\u001b[0m\u001b[0;34m.\u001b[0m\u001b[0mupdate\u001b[0m\u001b[0;34m(\u001b[0m\u001b[0msolve_time_kwargs\u001b[0m\u001b[0;34m)\u001b[0m\u001b[0;34m\u001b[0m\u001b[0;34m\u001b[0m\u001b[0m\n\u001b[1;32m    100\u001b[0m         \u001b[0;32mfrom\u001b[0m \u001b[0mscipy\u001b[0m\u001b[0;34m.\u001b[0m\u001b[0msparse\u001b[0m\u001b[0;34m.\u001b[0m\u001b[0mlinalg\u001b[0m \u001b[0;32mimport\u001b[0m \u001b[0meigsh\u001b[0m\u001b[0;34m\u001b[0m\u001b[0;34m\u001b[0m\u001b[0m\n\u001b[0;32m--> 101\u001b[0;31m         \u001b[0;32mreturn\u001b[0m \u001b[0meigsh\u001b[0m\u001b[0;34m(\u001b[0m\u001b[0mK\u001b[0m\u001b[0;34m,\u001b[0m \u001b[0mM\u001b[0m\u001b[0;34m=\u001b[0m\u001b[0mM\u001b[0m\u001b[0;34m,\u001b[0m \u001b[0;34m**\u001b[0m\u001b[0mparams\u001b[0m\u001b[0;34m)\u001b[0m\u001b[0;34m\u001b[0m\u001b[0;34m\u001b[0m\u001b[0m\n\u001b[0m\u001b[1;32m    102\u001b[0m \u001b[0;34m\u001b[0m\u001b[0m\n\u001b[1;32m    103\u001b[0m     \u001b[0;32mreturn\u001b[0m \u001b[0msolver\u001b[0m\u001b[0;34m\u001b[0m\u001b[0;34m\u001b[0m\u001b[0m\n",
            "\u001b[0;32m/usr/local/lib/python3.7/dist-packages/scipy/sparse/linalg/eigen/arpack/arpack.py\u001b[0m in \u001b[0;36meigsh\u001b[0;34m(A, k, M, sigma, which, v0, ncv, maxiter, tol, return_eigenvectors, Minv, OPinv, mode)\u001b[0m\n\u001b[1;32m   1640\u001b[0m             \u001b[0;32mif\u001b[0m \u001b[0mOPinv\u001b[0m \u001b[0;32mis\u001b[0m \u001b[0;32mNone\u001b[0m\u001b[0;34m:\u001b[0m\u001b[0;34m\u001b[0m\u001b[0;34m\u001b[0m\u001b[0m\n\u001b[1;32m   1641\u001b[0m                 Minv_matvec = get_OPinv_matvec(A, M, sigma,\n\u001b[0;32m-> 1642\u001b[0;31m                                                hermitian=True, tol=tol)\n\u001b[0m\u001b[1;32m   1643\u001b[0m             \u001b[0;32melse\u001b[0m\u001b[0;34m:\u001b[0m\u001b[0;34m\u001b[0m\u001b[0;34m\u001b[0m\u001b[0m\n\u001b[1;32m   1644\u001b[0m                 \u001b[0mOPinv\u001b[0m \u001b[0;34m=\u001b[0m \u001b[0m_aslinearoperator_with_dtype\u001b[0m\u001b[0;34m(\u001b[0m\u001b[0mOPinv\u001b[0m\u001b[0;34m)\u001b[0m\u001b[0;34m\u001b[0m\u001b[0;34m\u001b[0m\u001b[0m\n",
            "\u001b[0;32m/usr/local/lib/python3.7/dist-packages/scipy/sparse/linalg/eigen/arpack/arpack.py\u001b[0m in \u001b[0;36mget_OPinv_matvec\u001b[0;34m(A, M, sigma, hermitian, tol)\u001b[0m\n\u001b[1;32m   1057\u001b[0m \u001b[0;32mdef\u001b[0m \u001b[0mget_OPinv_matvec\u001b[0m\u001b[0;34m(\u001b[0m\u001b[0mA\u001b[0m\u001b[0;34m,\u001b[0m \u001b[0mM\u001b[0m\u001b[0;34m,\u001b[0m \u001b[0msigma\u001b[0m\u001b[0;34m,\u001b[0m \u001b[0mhermitian\u001b[0m\u001b[0;34m=\u001b[0m\u001b[0;32mFalse\u001b[0m\u001b[0;34m,\u001b[0m \u001b[0mtol\u001b[0m\u001b[0;34m=\u001b[0m\u001b[0;36m0\u001b[0m\u001b[0;34m)\u001b[0m\u001b[0;34m:\u001b[0m\u001b[0;34m\u001b[0m\u001b[0;34m\u001b[0m\u001b[0m\n\u001b[1;32m   1058\u001b[0m     \u001b[0;32mif\u001b[0m \u001b[0msigma\u001b[0m \u001b[0;34m==\u001b[0m \u001b[0;36m0\u001b[0m\u001b[0;34m:\u001b[0m\u001b[0;34m\u001b[0m\u001b[0;34m\u001b[0m\u001b[0m\n\u001b[0;32m-> 1059\u001b[0;31m         \u001b[0;32mreturn\u001b[0m \u001b[0mget_inv_matvec\u001b[0m\u001b[0;34m(\u001b[0m\u001b[0mA\u001b[0m\u001b[0;34m,\u001b[0m \u001b[0mhermitian\u001b[0m\u001b[0;34m=\u001b[0m\u001b[0mhermitian\u001b[0m\u001b[0;34m,\u001b[0m \u001b[0mtol\u001b[0m\u001b[0;34m=\u001b[0m\u001b[0mtol\u001b[0m\u001b[0;34m)\u001b[0m\u001b[0;34m\u001b[0m\u001b[0;34m\u001b[0m\u001b[0m\n\u001b[0m\u001b[1;32m   1060\u001b[0m \u001b[0;34m\u001b[0m\u001b[0m\n\u001b[1;32m   1061\u001b[0m     \u001b[0;32mif\u001b[0m \u001b[0mM\u001b[0m \u001b[0;32mis\u001b[0m \u001b[0;32mNone\u001b[0m\u001b[0;34m:\u001b[0m\u001b[0;34m\u001b[0m\u001b[0;34m\u001b[0m\u001b[0m\n",
            "\u001b[0;32m/usr/local/lib/python3.7/dist-packages/scipy/sparse/linalg/eigen/arpack/arpack.py\u001b[0m in \u001b[0;36mget_inv_matvec\u001b[0;34m(M, hermitian, tol)\u001b[0m\n\u001b[1;32m   1050\u001b[0m     \u001b[0;32melif\u001b[0m \u001b[0misspmatrix\u001b[0m\u001b[0;34m(\u001b[0m\u001b[0mM\u001b[0m\u001b[0;34m)\u001b[0m \u001b[0;32mor\u001b[0m \u001b[0mis_pydata_spmatrix\u001b[0m\u001b[0;34m(\u001b[0m\u001b[0mM\u001b[0m\u001b[0;34m)\u001b[0m\u001b[0;34m:\u001b[0m\u001b[0;34m\u001b[0m\u001b[0;34m\u001b[0m\u001b[0m\n\u001b[1;32m   1051\u001b[0m         \u001b[0mM\u001b[0m \u001b[0;34m=\u001b[0m \u001b[0m_fast_spmatrix_to_csc\u001b[0m\u001b[0;34m(\u001b[0m\u001b[0mM\u001b[0m\u001b[0;34m,\u001b[0m \u001b[0mhermitian\u001b[0m\u001b[0;34m=\u001b[0m\u001b[0mhermitian\u001b[0m\u001b[0;34m)\u001b[0m\u001b[0;34m\u001b[0m\u001b[0;34m\u001b[0m\u001b[0m\n\u001b[0;32m-> 1052\u001b[0;31m         \u001b[0;32mreturn\u001b[0m \u001b[0mSpLuInv\u001b[0m\u001b[0;34m(\u001b[0m\u001b[0mM\u001b[0m\u001b[0;34m)\u001b[0m\u001b[0;34m.\u001b[0m\u001b[0mmatvec\u001b[0m\u001b[0;34m\u001b[0m\u001b[0;34m\u001b[0m\u001b[0m\n\u001b[0m\u001b[1;32m   1053\u001b[0m     \u001b[0;32melse\u001b[0m\u001b[0;34m:\u001b[0m\u001b[0;34m\u001b[0m\u001b[0;34m\u001b[0m\u001b[0m\n\u001b[1;32m   1054\u001b[0m         \u001b[0;32mreturn\u001b[0m \u001b[0mIterInv\u001b[0m\u001b[0;34m(\u001b[0m\u001b[0mM\u001b[0m\u001b[0;34m,\u001b[0m \u001b[0mtol\u001b[0m\u001b[0;34m=\u001b[0m\u001b[0mtol\u001b[0m\u001b[0;34m)\u001b[0m\u001b[0;34m.\u001b[0m\u001b[0mmatvec\u001b[0m\u001b[0;34m\u001b[0m\u001b[0;34m\u001b[0m\u001b[0m\n",
            "\u001b[0;32m/usr/local/lib/python3.7/dist-packages/scipy/sparse/linalg/eigen/arpack/arpack.py\u001b[0m in \u001b[0;36m__init__\u001b[0;34m(self, M)\u001b[0m\n\u001b[1;32m    912\u001b[0m     \"\"\"\n\u001b[1;32m    913\u001b[0m     \u001b[0;32mdef\u001b[0m \u001b[0m__init__\u001b[0m\u001b[0;34m(\u001b[0m\u001b[0mself\u001b[0m\u001b[0;34m,\u001b[0m \u001b[0mM\u001b[0m\u001b[0;34m)\u001b[0m\u001b[0;34m:\u001b[0m\u001b[0;34m\u001b[0m\u001b[0;34m\u001b[0m\u001b[0m\n\u001b[0;32m--> 914\u001b[0;31m         \u001b[0mself\u001b[0m\u001b[0;34m.\u001b[0m\u001b[0mM_lu\u001b[0m \u001b[0;34m=\u001b[0m \u001b[0msplu\u001b[0m\u001b[0;34m(\u001b[0m\u001b[0mM\u001b[0m\u001b[0;34m)\u001b[0m\u001b[0;34m\u001b[0m\u001b[0;34m\u001b[0m\u001b[0m\n\u001b[0m\u001b[1;32m    915\u001b[0m         \u001b[0mself\u001b[0m\u001b[0;34m.\u001b[0m\u001b[0mshape\u001b[0m \u001b[0;34m=\u001b[0m \u001b[0mM\u001b[0m\u001b[0;34m.\u001b[0m\u001b[0mshape\u001b[0m\u001b[0;34m\u001b[0m\u001b[0;34m\u001b[0m\u001b[0m\n\u001b[1;32m    916\u001b[0m         \u001b[0mself\u001b[0m\u001b[0;34m.\u001b[0m\u001b[0mdtype\u001b[0m \u001b[0;34m=\u001b[0m \u001b[0mM\u001b[0m\u001b[0;34m.\u001b[0m\u001b[0mdtype\u001b[0m\u001b[0;34m\u001b[0m\u001b[0;34m\u001b[0m\u001b[0m\n",
            "\u001b[0;32m/usr/local/lib/python3.7/dist-packages/scipy/sparse/linalg/dsolve/linsolve.py\u001b[0m in \u001b[0;36msplu\u001b[0;34m(A, permc_spec, diag_pivot_thresh, relax, panel_size, options)\u001b[0m\n\u001b[1;32m    324\u001b[0m     return _superlu.gstrf(N, A.nnz, A.data, A.indices, A.indptr,\n\u001b[1;32m    325\u001b[0m                           \u001b[0mcsc_construct_func\u001b[0m\u001b[0;34m=\u001b[0m\u001b[0mcsc_construct_func\u001b[0m\u001b[0;34m,\u001b[0m\u001b[0;34m\u001b[0m\u001b[0;34m\u001b[0m\u001b[0m\n\u001b[0;32m--> 326\u001b[0;31m                           ilu=False, options=_options)\n\u001b[0m\u001b[1;32m    327\u001b[0m \u001b[0;34m\u001b[0m\u001b[0m\n\u001b[1;32m    328\u001b[0m \u001b[0;34m\u001b[0m\u001b[0m\n",
            "\u001b[0;31mKeyboardInterrupt\u001b[0m: "
          ]
        }
      ]
    },
    {
      "cell_type": "markdown",
      "metadata": {
        "id": "AS7lGZaXStPv"
      },
      "source": [
        "# element_tet_p4"
      ]
    },
    {
      "cell_type": "code",
      "execution_count": 11,
      "metadata": {
        "id": "4GM3QCG3StPx"
      },
      "outputs": [],
      "source": [
        "import numpy as np\n",
        "\n",
        "from skfem.element.element_h1 import ElementH1\n",
        "from skfem.refdom import RefTet\n",
        "\n",
        "\n",
        "class ElementTetP4(ElementH1):\n",
        "    \"\"\"Piecewise qurtic element.\"\"\"\n",
        "\n",
        "    nodal_dofs = 1\n",
        "    edge_dofs = 3\n",
        "    facet_dofs = 3\n",
        "    interior_dofs = 1\n",
        "    maxdeg = 4\n",
        "    dofnames = ['u', 'u', 'u', 'u', 'u', 'u', 'u','u']\n",
        "    doflocs = np.array([[0., 0., 0.], #nodal O  ==0\n",
        "                        [1., 0., 0.], #nodal x  ==1\n",
        "                        [0., 1., 0.], #nodal y  ==2\n",
        "                        [0., 0., 1.], #nodal z  ==3\n",
        "                        [0.25, 0., 0.], #edge O->x  ==4\n",
        "                        [0.50, 0., 0.], #edge O->x  ==5\n",
        "                        [0.75, 0., 0.], #edge O->x  ==6\n",
        "                        [0.75, 0.25, 0.], #edge x->y  ==7\n",
        "                        [0.50, 0.50, 0.], #edge x->y  ==8\n",
        "                        [0.25, 0.75, 0.], #edge x->y  ==9\n",
        "                        [0., 0.25, 0.], #edge O->y  ==10\n",
        "                        [0., 0.50, 0.], #edge O->y  ==11\n",
        "                        [0., 0.75, 0.], #edge O->y  ==12\n",
        "                        [0., 0., 0.25], #edge O->z  ==13\n",
        "                        [0., 0., 0.50], #edge O->z  ==14\n",
        "                        [0., 0., 0.75], #edge O->z  ==15\n",
        "                        [0.75, 0.0, 0.25], #edge x->z  ==16\n",
        "                        [0.50, 0.0, 0.50], #edge x->z  ==17\n",
        "                        [0.25, 0.0, 0.75], #edge x->z  ==18\n",
        "                        [0.0, 0.75, 0.25], #edge y->z  ==19\n",
        "                        [0.0, 0.50, 0.50], #edge y->z  ==20\n",
        "                        [0.0, 0.25, 0.75], #edge y->z  ==21\n",
        "                        [0.25, 0.25, 0.], #facet Oxy  ==22\n",
        "                        [0.50, 0.25, 0.], #facet Oxy  ==23\n",
        "                        [0.25, 0.50, 0.], #facet Oxy  ==24\n",
        "                        [0.25, 0., 0.25], #facet Oxz  ==25\n",
        "                        [0.50, 0., 0.25], #facet Oxz  ==26\n",
        "                        [0.25, 0., 0.50], #facet Oxz  ==27\n",
        "                        [0., 0.25, 0.25], #facet Oyz  ==28\n",
        "                        [0., 0.50, 0.25], #facet Oyz  ==29\n",
        "                        [0., 0.25, 0.50], #facet Oyz  ==30\n",
        "                        [0.50, 0.25, 0.25], #facet xyz  ==31\n",
        "                        [0.25, 0.50, 0.25], #facet xyz  ==32\n",
        "                        [0.25, 0.25, 0.50], #facet xyz  ==33\n",
        "                        [0.25, 0.25, 0.25]]) #center  ==34\n",
        "    refdom = RefTet\n",
        "\n",
        "    def lbasis(self, X, i):\n",
        "        x, y, z = X\n",
        "\n",
        "        if i == 0:  # at (0,0,0)\n",
        "            phi = (4*x + 4*y + 4*z - 1)*(4*x + 4*y + 4*z - 2)*(4*x + 4*y + 4*z - 3)*(x/6 + y/6 + z/6 - 1/6)\n",
        "            dphi = np.array([\n",
        "                (128*x**3)/3 + 128*x**2*y + 128*x**2*z - 80*x**2 + 128*x*y**2 \n",
        "                + 256*x*y*z - 160*x*y + 128*x*z**2 - 160*x*z + (140*x)/3 \n",
        "                + (128*y**3)/3 + 128*y**2*z - 80*y**2 + 128*y*z**2 - 160*y*z \n",
        "                + (140*y)/3 + (128*z**3)/3 - 80*z**2 + (140*z)/3 - 25/3,\n",
        "                (128*x**3)/3 + 128*x**2*y + 128*x**2*z - 80*x**2 + 128*x*y**2 \n",
        "                + 256*x*y*z - 160*x*y + 128*x*z**2 - 160*x*z + (140*x)/3 \n",
        "                + (128*y**3)/3 + 128*y**2*z - 80*y**2 + 128*y*z**2 - 160*y*z \n",
        "                + (140*y)/3 + (128*z**3)/3 - 80*z**2 + (140*z)/3 - 25/3,\n",
        "                (128*x**3)/3 + 128*x**2*y + 128*x**2*z - 80*x**2 + 128*x*y**2 \n",
        "                + 256*x*y*z - 160*x*y + 128*x*z**2 - 160*x*z + (140*x)/3 \n",
        "                + (128*y**3)/3 + 128*y**2*z - 80*y**2 + 128*y*z**2 - 160*y*z \n",
        "                + (140*y)/3 + (128*z**3)/3 - 80*z**2 + (140*z)/3 - 25/3,\n",
        "            ])\n",
        "        elif i == 1: # at (1,0,0)\n",
        "            phi = (x*(4*x - 1)*(4*x - 2)*(4*x - 3))/6\n",
        "            dphi = np.array([\n",
        "                (128*x**3)/3 - 48*x**2 + (44*x)/3 - 1,\n",
        "                0*x,\n",
        "                0*x,\n",
        "            ])\n",
        "        elif i == 2: # at (0,1,0)\n",
        "            phi = (y*(4*y - 1)*(4*y - 2)*(4*y - 3))/6\n",
        "            dphi = np.array([\n",
        "                0*x,\n",
        "                (128*y**3)/3 - 48*y**2 + (44*y)/3 - 1,\n",
        "                0*x,\n",
        "            ])\n",
        "        elif i == 3: # at (0,0,1)\n",
        "            phi = (z*(4*z - 1)*(4*z - 2)*(4*z - 3))/6\n",
        "            dphi = np.array([\n",
        "                0*x,\n",
        "                0*x,\n",
        "                (128*z**3)/3 - 48*z**2 + (44*z)/3 - 1,\n",
        "            ])\n",
        "        elif i == 4:\n",
        "            phi = -x*(4*x + 4*y + 4*z - 2)*(4*x + 4*y + 4*z - 3)*((8*x)/3 + (8*y)/3 + (8*z)/3 - 8/3)\n",
        "            dphi = np.array([\n",
        "                - (4*x + 4*y + 4*z - 2)*(4*x + 4*y + 4*z - 3)*((8*x)/3 \n",
        "                    + (8*y)/3 + (8*z)/3 - 8/3) - (8*x*(4*x + 4*y + 4*z - 2)*(4*x \n",
        "                        + 4*y + 4*z - 3))/3 - 4*x*(4*x + 4*y + 4*z - 2)*((8*x)/3 \n",
        "                    + (8*y)/3 + (8*z)/3 - 8/3) - 4*x*(4*x + 4*y + 4*z - 3)*((8*x)/3 \n",
        "                    + (8*y)/3 + (8*z)/3 - 8/3),\n",
        "                -(16*x*(24*x**2 + 48*x*y + 48*x*z - 36*x \n",
        "                    + 24*y**2 + 48*y*z - 36*y + 24*z**2 - 36*z + 13))/3,\n",
        "                -(16*x*(24*x**2 + 48*x*y + 48*x*z - 36*x \n",
        "                    + 24*y**2 + 48*y*z - 36*y + 24*z**2 - 36*z + 13))/3\n",
        "            ])\n",
        "        elif i == 5:\n",
        "            phi = x*(4*x - 1)*(4*x + 4*y + 4*z - 3)*(4*x + 4*y + 4*z - 4)\n",
        "            dphi = np.array([\n",
        "                (4*x - 1)*(4*x + 4*y + 4*z - 3)*(4*x + 4*y + 4*z - 4) \n",
        "                + 4*x*(4*x + 4*y + 4*z - 3)*(4*x + 4*y + 4*z - 4) \n",
        "                + 4*x*(4*x - 1)*(4*x + 4*y + 4*z - 3) \n",
        "                + 4*x*(4*x - 1)*(4*x + 4*y + 4*z - 4),\n",
        "                4*x*(4*x - 1)*(8*x + 8*y + 8*z - 7),\n",
        "                4*x*(4*x - 1)*(8*x + 8*y + 8*z - 7),\n",
        "            ])\n",
        "        elif i == 6:\n",
        "            phi = -x*(4*x - 1)*(4*x - 2)*((8*x)/3 + (8*y)/3 + (8*z)/3 - 8/3)\n",
        "            dphi = np.array([\n",
        "                64*x*y - (16*y)/3 - (16*z)/3 - (224*x)/3 \n",
        "                + 64*x*z - 128*x**2*y - 128*x**2*z + 224*x**2 \n",
        "                - (512*x**3)/3 + 16/3,\n",
        "                -(8*x*(4*x - 1)*(4*x - 2))/3,\n",
        "                -(8*x*(4*x - 1)*(4*x - 2))/3,\n",
        "            ])\n",
        "        elif i == 7:\n",
        "            phi = (8*x*y*(4*x - 1)*(4*x - 2))/3\n",
        "            dphi = np.array([\n",
        "                (16*y*(24*x**2 - 12*x + 1))/3,\n",
        "                (8*x*(4*x - 1)*(4*x - 2))/3,\n",
        "                0*x,\n",
        "            ])\n",
        "        elif i == 8:\n",
        "            phi = 4*x*y*(4*x - 1)*(4*y - 1)\n",
        "            dphi = np.array([\n",
        "                4*y*(8*x - 1)*(4*y - 1),\n",
        "                4*x*(4*x - 1)*(8*y - 1),\n",
        "                0*x,\n",
        "            ])\n",
        "        elif i == 9:\n",
        "            phi = (8*x*y*(4*y - 1)*(4*y - 2))/3\n",
        "            dphi = np.array([\n",
        "                (8*y*(4*y - 1)*(4*y - 2))/3,\n",
        "                (16*x*(24*y**2 - 12*y + 1))/3,\n",
        "                0*x,\n",
        "            ])\n",
        "        elif i == 10:\n",
        "            phi = -y*(4*x + 4*y + 4*z - 2)*(4*x + 4*y + 4*z - 3)*((8*x)/3 \n",
        "                + (8*y)/3 + (8*z)/3 - 8/3)\n",
        "            dphi = np.array([\n",
        "                -(16*y*(24*x**2 + 48*x*y + 48*x*z - 36*x + 24*y**2 + 48*y*z - 36*y \n",
        "                    + 24*z**2 - 36*z + 13))/3,\n",
        "                - (4*x + 4*y + 4*z - 2)*(4*x + 4*y + 4*z - 3)*((8*x)/3 + (8*y)/3 \n",
        "                    + (8*z)/3 - 8/3) - (8*y*(4*x + 4*y + 4*z - 2)*(4*x + 4*y + 4*z - 3))/3 \n",
        "                - 4*y*(4*x + 4*y + 4*z - 2)*((8*x)/3 + (8*y)/3 + (8*z)/3 - 8/3) \n",
        "                - 4*y*(4*x + 4*y + 4*z - 3)*((8*x)/3 + (8*y)/3 + (8*z)/3 - 8/3),\n",
        "                -(16*y*(24*x**2 + 48*x*y + 48*x*z - 36*x + 24*y**2 + 48*y*z \n",
        "                    - 36*y + 24*z**2 - 36*z + 13))/3,\n",
        "            ])\n",
        "        elif i == 11:\n",
        "            phi = y*(4*y - 1)*(4*x + 4*y + 4*z - 3)*(4*x + 4*y + 4*z - 4)\n",
        "            dphi = np.array([\n",
        "                4*y*(4*y - 1)*(8*x + 8*y + 8*z - 7),\n",
        "                (4*y - 1)*(4*x + 4*y + 4*z - 3)*(4*x + 4*y + 4*z - 4) \n",
        "                + 4*y*(4*x + 4*y + 4*z - 3)*(4*x + 4*y + 4*z - 4) \n",
        "                + 4*y*(4*y - 1)*(4*x + 4*y + 4*z - 3) \n",
        "                + 4*y*(4*y - 1)*(4*x + 4*y + 4*z - 4),\n",
        "                4*y*(4*y - 1)*(8*x + 8*y + 8*z - 7),\n",
        "            ])\n",
        "        elif i == 12:\n",
        "            phi = -y*(4*y - 1)*(4*y - 2)*((8*x)/3 + (8*y)/3 + (8*z)/3 - 8/3)\n",
        "            dphi = np.array([\n",
        "                -(8*y*(4*y - 1)*(4*y - 2))/3,\n",
        "                64*x*y - (224*y)/3 - (16*z)/3 - (16*x)/3 + 64*y*z \n",
        "                - 128*x*y**2 - 128*y**2*z + 224*y**2 - (512*y**3)/3 + 16/3,\n",
        "                -(8*y*(4*y - 1)*(4*y - 2))/3,\n",
        "            ])\n",
        "        elif i == 13:\n",
        "            phi = -z*(4*x + 4*y + 4*z - 2)*(4*x + 4*y + 4*z - 3)*((8*x)/3 \n",
        "                + (8*y)/3 + (8*z)/3 - 8/3)\n",
        "            dphi = np.array([\n",
        "                -(16*z*(24*x**2 + 48*x*y + 48*x*z - 36*x + 24*y**2 + 48*y*z \n",
        "                    - 36*y + 24*z**2 - 36*z + 13))/3,\n",
        "                -(16*z*(24*x**2 + 48*x*y + 48*x*z - 36*x + 24*y**2 + 48*y*z \n",
        "                    - 36*y + 24*z**2 - 36*z + 13))/3,\n",
        "                - (4*x + 4*y + 4*z - 2)*(4*x + 4*y + 4*z - 3)*((8*x)/3 \n",
        "                    + (8*y)/3 + (8*z)/3 - 8/3) - (8*z*(4*x + 4*y \n",
        "                        + 4*z - 2)*(4*x + 4*y + 4*z - 3))/3 \n",
        "                    - 4*z*(4*x + 4*y + 4*z - 2)*((8*x)/3 \n",
        "                        + (8*y)/3 + (8*z)/3 - 8/3) - 4*z*(4*x + 4*y \n",
        "                        + 4*z - 3)*((8*x)/3 + (8*y)/3 + (8*z)/3 - 8/3),\n",
        "            ])\n",
        "        elif i == 14:\n",
        "            phi = z*(4*z - 1)*(4*x + 4*y + 4*z - 3)*(4*x + 4*y + 4*z - 4)\n",
        "            dphi = np.array([                                                                                                                                                \n",
        "                4*z*(4*z - 1)*(8*x + 8*y + 8*z - 7),\n",
        "                4*z*(4*z - 1)*(8*x + 8*y + 8*z - 7),\n",
        "                (4*z - 1)*(4*x + 4*y + 4*z - 3)*(4*x + 4*y + 4*z - 4) \n",
        "                + 4*z*(4*x + 4*y + 4*z - 3)*(4*x + 4*y + 4*z - 4) \n",
        "                + 4*z*(4*z - 1)*(4*x + 4*y + 4*z - 3) \n",
        "                + 4*z*(4*z - 1)*(4*x + 4*y + 4*z - 4),\n",
        "            ])\n",
        "        elif i == 15:\n",
        "            phi = -z*(4*z - 1)*(4*z - 2)*((8*x)/3 + (8*y)/3 + (8*z)/3 - 8/3)\n",
        "            dphi = np.array([\n",
        "                -(8*z*(4*z - 1)*(4*z - 2))/3,\n",
        "                -(8*z*(4*z - 1)*(4*z - 2))/3,\n",
        "                64*x*z - (16*y)/3 - (224*z)/3 - (16*x)/3 + 64*y*z - 128*x*z**2 \n",
        "                - 128*y*z**2 + 224*z**2 - (512*z**3)/3 + 16/3,\n",
        "            ])\n",
        "        elif i == 16:\n",
        "            phi = (8*x*z*(4*x - 1)*(4*x - 2))/3\n",
        "            dphi = np.array([\n",
        "                (16*z*(24*x**2 - 12*x + 1))/3,\n",
        "                0*x,\n",
        "                (8*x*(4*x - 1)*(4*x - 2))/3,\n",
        "            ])\n",
        "        elif i == 17:\n",
        "            phi = 4*x*z*(4*x - 1)*(4*z - 1)\n",
        "            dphi = np.array([\n",
        "                4*z*(8*x - 1)*(4*z - 1),\n",
        "                0*x,\n",
        "                4*x*(4*x - 1)*(8*z - 1),\n",
        "            ])\n",
        "        elif i == 18:\n",
        "            phi = (8*x*z*(4*z - 1)*(4*z - 2))/3\n",
        "            dphi = np.array([\n",
        "                (8*z*(4*z - 1)*(4*z - 2))/3,\n",
        "                0*x,\n",
        "                (16*x*(24*z**2 - 12*z + 1))/3,\n",
        "            ])\n",
        "        elif i == 19:\n",
        "            phi = (8*y*z*(4*y - 1)*(4*y - 2))/3\n",
        "            dphi = np.array([\n",
        "                0*x,\n",
        "                (16*z*(24*y**2 - 12*y + 1))/3,\n",
        "                (8*y*(4*y - 1)*(4*y - 2))/3,\n",
        "            ])\n",
        "        elif i == 20:\n",
        "            phi = 4*y*z*(4*y - 1)*(4*z - 1)\n",
        "            dphi = np.array([\n",
        "                0*x,\n",
        "                4*z*(8*y - 1)*(4*z - 1),\n",
        "                4*y*(4*y - 1)*(8*z - 1),\n",
        "            ])\n",
        "        elif i == 21:\n",
        "            phi = (8*y*z*(4*z - 1)*(4*z - 2))/3\n",
        "            dphi = np.array([\n",
        "                0*x,\n",
        "                (8*z*(4*z - 1)*(4*z - 2))/3,\n",
        "                (16*y*(24*z**2 - 12*z + 1))/3,\n",
        "            ])\n",
        "        elif i == 22:\n",
        "            phi = x*y*(4*x + 4*y + 4*z - 3)*(32*x + 32*y + 32*z - 32)\n",
        "            dphi = np.array([\n",
        "                32*y*(12*x**2 + 16*x*y + 16*x*z - 14*x + 4*y**2 + 8*y*z \n",
        "                    - 7*y + 4*z**2 - 7*z + 3),\n",
        "                32*x*(4*x**2 + 16*x*y + 8*x*z - 7*x + 12*y**2 + 16*y*z \n",
        "                    - 14*y + 4*z**2 - 7*z + 3),\n",
        "                32*x*y*(8*x + 8*y + 8*z - 7),\n",
        "            ])\n",
        "        elif i == 23:\n",
        "            phi = -x*y*(4*x - 1)*(32*x + 32*y + 32*z - 32)\n",
        "            dphi = np.array([\n",
        "                -32*y*(8*x*y - y - z - 10*x + 8*x*z + 12*x**2 + 1),\n",
        "                -32*x*(4*x - 1)*(x + 2*y + z - 1),\n",
        "                -32*x*y*(4*x - 1),\n",
        "            ])\n",
        "        elif i == 24:\n",
        "            phi = -x*y*(4*y - 1)*(32*x + 32*y + 32*z - 32)\n",
        "            dphi = np.array([\n",
        "                -32*y*(4*y - 1)*(2*x + y + z - 1),\n",
        "                -32*x*(8*x*y - 10*y - z - x + 8*y*z + 12*y**2 + 1),\n",
        "                -32*x*y*(4*y - 1),\n",
        "            ])\n",
        "        elif i == 25:\n",
        "            phi = x*z*(4*x + 4*y + 4*z - 3)*(32*x + 32*y + 32*z - 32)\n",
        "            dphi = np.array([\n",
        "                32*z*(12*x**2 + 16*x*y + 16*x*z - 14*x + 4*y**2 + 8*y*z \n",
        "                    - 7*y + 4*z**2 - 7*z + 3),\n",
        "                32*x*z*(8*x + 8*y + 8*z - 7),\n",
        "                32*x*(4*x**2 + 8*x*y + 16*x*z - 7*x + 4*y**2 + 16*y*z \n",
        "                    - 7*y + 12*z**2 - 14*z + 3),\n",
        "            ])\n",
        "        elif i == 26:\n",
        "            phi = -x*z*(4*x - 1)*(32*x + 32*y + 32*z - 32)\n",
        "            dphi = np.array([\n",
        "                -32*z*(8*x*y - y - z - 10*x + 8*x*z + 12*x**2 + 1),\n",
        "                -32*x*z*(4*x - 1),\n",
        "                -32*x*(4*x - 1)*(x + y + 2*z - 1),\n",
        "            ])\n",
        "        elif i == 27:\n",
        "            phi = -x*z*(4*z - 1)*(32*x + 32*y + 32*z - 32)\n",
        "            dphi = np.array([\n",
        "                -32*z*(4*z - 1)*(2*x + y + z - 1),\n",
        "                -32*x*z*(4*z - 1),\n",
        "                -32*x*(8*x*z - y - 10*z - x + 8*y*z + 12*z**2 + 1),\n",
        "            ])\n",
        "        elif i == 28:\n",
        "            phi = y*z*(4*x + 4*y + 4*z - 3)*(32*x + 32*y + 32*z - 32)\n",
        "            dphi = np.array([\n",
        "                32*y*z*(8*x + 8*y + 8*z - 7),\n",
        "                32*z*(4*x**2 + 16*x*y + 8*x*z - 7*x + 12*y**2 + 16*y*z \n",
        "                    - 14*y + 4*z**2 - 7*z + 3),\n",
        "                32*y*(4*x**2 + 8*x*y + 16*x*z - 7*x + 4*y**2 + 16*y*z \n",
        "                    - 7*y + 12*z**2 - 14*z + 3),\n",
        "            ])\n",
        "        elif i == 29:\n",
        "            phi = -y*z*(4*y - 1)*(32*x + 32*y + 32*z - 32)\n",
        "            dphi = np.array([\n",
        "                -32*y*z*(4*y - 1),\n",
        "                -32*z*(8*x*y - 10*y - z - x + 8*y*z + 12*y**2 + 1),\n",
        "                -32*y*(4*y - 1)*(x + y + 2*z - 1),\n",
        "            ])\n",
        "        elif i == 30:\n",
        "            phi = -y*z*(4*z - 1)*(32*x + 32*y + 32*z - 32)\n",
        "            dphi = np.array([\n",
        "                -32*y*z*(4*z - 1),\n",
        "                -32*z*(4*z - 1)*(x + 2*y + z - 1),\n",
        "                -32*y*(8*x*z - y - 10*z - x + 8*y*z + 12*z**2 + 1),\n",
        "            ])\n",
        "        elif i == 31:\n",
        "            phi = 32*x*y*z*(4*x - 1)\n",
        "            dphi = np.array([\n",
        "                32*y*z*(8*x - 1),\n",
        "                32*x*z*(4*x - 1),\n",
        "                32*x*y*(4*x - 1),\n",
        "            ])\n",
        "        elif i == 32:\n",
        "            phi = 32*x*y*z*(4*y - 1)\n",
        "            dphi = np.array([\n",
        "                32*y*z*(4*y - 1),\n",
        "                32*x*z*(8*y - 1),\n",
        "                32*x*y*(4*y - 1),\n",
        "            ])\n",
        "        elif i == 33:\n",
        "            phi = 32*x*y*z*(4*z - 1)\n",
        "            dphi = np.array([\n",
        "                32*y*z*(4*z - 1),\n",
        "                32*x*z*(4*z - 1),\n",
        "                32*x*y*(8*z - 1),\n",
        "            ])\n",
        "        elif i == 34:\n",
        "            phi = -x*y*z*(256*x + 256*y + 256*z - 256)\n",
        "            dphi = np.array([\n",
        "                -256*y*z*(2*x + y + z - 1),\n",
        "                -256*x*z*(x + 2*y + z - 1),\n",
        "                -256*x*y*(x + y + 2*z - 1),\n",
        "            ])\n",
        "        else:\n",
        "            self._index_error()\n",
        "\n",
        "        return phi, dphi"
      ]
    },
    {
      "cell_type": "markdown",
      "metadata": {
        "id": "NyrwMHj8StP0"
      },
      "source": [
        "# solve Laplace eigenvalue problem on uniform meshes\n",
        "$\\Delta u = \\lambda u $, in $\\Omega = (0,1)^3$\n",
        "and\n",
        "$u = 0$, on $\\partial\\Omega.$\n",
        "The first eigenvalue $\\lambda_1=3\\pi^2\\approx29.608813203268074$"
      ]
    },
    {
      "cell_type": "markdown",
      "source": [
        "# Using p4 elements uniformly"
      ],
      "metadata": {
        "id": "qFFzmwZqXHJm"
      }
    },
    {
      "cell_type": "code",
      "execution_count": 12,
      "metadata": {
        "colab": {
          "base_uri": "https://localhost:8080/"
        },
        "id": "hIvEh-z0StP3",
        "outputId": "1267942d-9cc7-404a-934b-61108851f57e"
      },
      "outputs": [
        {
          "output_type": "stream",
          "name": "stdout",
          "text": [
            "0,665,[0.2131283],[0.00248703]\n",
            "1,4401,[0.211695],[0.00105374]\n",
            "2,13897,[0.21122613],[0.00058487]\n"
          ]
        },
        {
          "output_type": "stream",
          "name": "stderr",
          "text": [
            "Transforming over 1000 vertices to C_CONTIGUOUS.\n",
            "Transforming over 1000 vertices to C_CONTIGUOUS.\n"
          ]
        },
        {
          "output_type": "stream",
          "name": "stdout",
          "text": [
            "3,31841,[0.21102614],[0.00038487]\n"
          ]
        },
        {
          "output_type": "stream",
          "name": "stderr",
          "text": [
            "Transforming over 1000 vertices to C_CONTIGUOUS.\n",
            "Transforming over 1000 vertices to C_CONTIGUOUS.\n",
            "Transforming over 1000 vertices to C_CONTIGUOUS.\n",
            "Transforming over 1000 vertices to C_CONTIGUOUS.\n",
            "Transforming over 1000 vertices to C_CONTIGUOUS.\n"
          ]
        },
        {
          "output_type": "stream",
          "name": "stdout",
          "text": [
            "4,60921,[0.21092005],[0.00027879]\n",
            "5,103825,[0.21085582],[0.00021455]\n"
          ]
        }
      ],
      "source": [
        "from skfem import *\n",
        "from skfem.models.poisson import laplace, mass\n",
        "import numpy as np\n",
        "\n",
        "\n",
        "for itr in range(6):\n",
        "  #p = np.linspace(0, 1, itr+2)\n",
        "  #m = MeshTet.init_tensor(*(p,) * 3)\n",
        "  p1 = np.linspace(0, 5, itr+2)\n",
        "  m1 = MeshTet.init_tensor(*(p1,) * 3)\n",
        "  m2 = m1.mirrored([0,0,1])\n",
        "  m3 = m1.mirrored([0,1,0])\n",
        "  m4 = m1.mirrored([1,0,0])\n",
        "  m5 = m1.mirrored([0,1,1])\n",
        "  m6 = m1.mirrored([1,0,1])\n",
        "  m7 = m1.mirrored([1,1,0])\n",
        "  m8 = m7.mirrored([0,0,1])\n",
        "  m = m8+m2+m3+m4+m5+m6+m7\n",
        "  e = ElementTetP4()\n",
        "  basis = Basis(m, e) \n",
        "  K = asm(laplace, basis)\n",
        "  M = asm(mass, basis)\n",
        "  D=basis.get_dofs()\n",
        "  Lh,eigen_uh = solve(*condense(0.5*K, M, D=D), solver=solver_eigen_scipy_sym(sigma=0,k=1))\n",
        "  Dof= K.shape[0]\n",
        "  error = np.abs(Lh-0.2106412625)\n",
        "  print(\"{},{},{},{}\".format(itr,Dof,Lh,error))\n"
      ]
    },
    {
      "cell_type": "markdown",
      "metadata": {
        "id": "C1nkEv0fStP7"
      },
      "source": [
        "# solve Laplace eigenvalue problem on the adaptive meshes\n",
        "$\\Delta u = \\lambda u $, in $\\Omega = (0,1)^3$\n",
        "\n",
        "and\n",
        "$u = 0$, on $\\partial\\Omega.$\n",
        "\n",
        "The first eigenvalue $\\lambda_1=3\\pi^2\\approx29.608813203268074$"
      ]
    },
    {
      "cell_type": "markdown",
      "source": [
        "# Using p2 elmements adaptively"
      ],
      "metadata": {
        "id": "FR-rI_NqIUe4"
      }
    },
    {
      "cell_type": "code",
      "execution_count": null,
      "metadata": {
        "id": "NGcwLFxnStQD",
        "colab": {
          "base_uri": "https://localhost:8080/"
        },
        "outputId": "f53440cf-5913-4fa9-c4a5-07880f85d784"
      },
      "outputs": [
        {
          "output_type": "stream",
          "name": "stderr",
          "text": [
            "Transforming over 1000 elements to C_CONTIGUOUS.\n"
          ]
        },
        {
          "output_type": "stream",
          "name": "stdout",
          "text": [
            "11,0.34641016151377557,1331,29.706286231004054,0.09747302773597966\n"
          ]
        },
        {
          "output_type": "stream",
          "name": "stderr",
          "text": [
            "Transforming over 1000 elements to C_CONTIGUOUS.\n"
          ]
        },
        {
          "output_type": "stream",
          "name": "stdout",
          "text": [
            "10,0.3464101615137755,2027,29.64864481627044,0.039831613002366595\n",
            "9,0.2828427124746191,2871,29.628758231498857,0.019945028230782924\n"
          ]
        },
        {
          "output_type": "stream",
          "name": "stderr",
          "text": [
            "Transforming over 1000 elements to C_CONTIGUOUS.\n"
          ]
        },
        {
          "output_type": "stream",
          "name": "stdout",
          "text": [
            "8,0.2828427124746191,3681,29.621735385771252,0.012922182503178448\n"
          ]
        },
        {
          "output_type": "stream",
          "name": "stderr",
          "text": [
            "Transforming over 1000 elements to C_CONTIGUOUS.\n"
          ]
        },
        {
          "output_type": "stream",
          "name": "stdout",
          "text": [
            "7,0.2828427124746191,4323,29.61733919810704,0.008525994838965545\n"
          ]
        },
        {
          "output_type": "stream",
          "name": "stderr",
          "text": [
            "Transforming over 1000 elements to C_CONTIGUOUS.\n"
          ]
        },
        {
          "output_type": "stream",
          "name": "stdout",
          "text": [
            "6,0.28284271247461906,4641,29.616680199672533,0.007866996404459314\n"
          ]
        },
        {
          "output_type": "stream",
          "name": "stderr",
          "text": [
            "Transforming over 1000 vertices to C_CONTIGUOUS.\n",
            "Transforming over 1000 elements to C_CONTIGUOUS.\n"
          ]
        },
        {
          "output_type": "stream",
          "name": "stdout",
          "text": [
            "5,0.20000000000000007,7425,29.61482206177459,0.0060088585065152245\n"
          ]
        },
        {
          "output_type": "stream",
          "name": "stderr",
          "text": [
            "Transforming over 1000 vertices to C_CONTIGUOUS.\n",
            "Transforming over 1000 elements to C_CONTIGUOUS.\n"
          ]
        },
        {
          "output_type": "stream",
          "name": "stdout",
          "text": [
            "4,0.20000000000000007,9897,29.613791385720766,0.004978182452692437\n"
          ]
        },
        {
          "output_type": "stream",
          "name": "stderr",
          "text": [
            "Transforming over 1000 vertices to C_CONTIGUOUS.\n",
            "Transforming over 1000 elements to C_CONTIGUOUS.\n"
          ]
        },
        {
          "output_type": "stream",
          "name": "stdout",
          "text": [
            "3,0.20000000000000007,15793,29.61119642109418,0.0023832178261073977\n"
          ]
        },
        {
          "output_type": "stream",
          "name": "stderr",
          "text": [
            "Transforming over 1000 vertices to C_CONTIGUOUS.\n",
            "Transforming over 1000 elements to C_CONTIGUOUS.\n"
          ]
        },
        {
          "output_type": "stream",
          "name": "stdout",
          "text": [
            "2,0.17320508075688779,21461,29.6101262149508,0.0013130116827255733\n"
          ]
        },
        {
          "output_type": "stream",
          "name": "stderr",
          "text": [
            "Transforming over 1000 vertices to C_CONTIGUOUS.\n",
            "Transforming over 1000 elements to C_CONTIGUOUS.\n"
          ]
        },
        {
          "output_type": "stream",
          "name": "stdout",
          "text": [
            "1,0.14142135623730964,30749,29.609464822981806,0.0006516197137322877\n"
          ]
        },
        {
          "output_type": "stream",
          "name": "stderr",
          "text": [
            "Transforming over 1000 vertices to C_CONTIGUOUS.\n",
            "Transforming over 1000 elements to C_CONTIGUOUS.\n"
          ]
        },
        {
          "output_type": "stream",
          "name": "stdout",
          "text": [
            "0,0.14142135623730964,34373,29.609343738098502,0.0005305348304283086\n"
          ]
        }
      ],
      "source": [
        "from skfem import *\n",
        "from skfem.models.poisson import laplace, mass\n",
        "from skfem.helpers import grad\n",
        "import numpy as np\n",
        "\n",
        "p = np.linspace(0, 1, 6)\n",
        "m = MeshTet.init_tensor(*(p,) * 3)\n",
        "e = ElementTetP2()\n",
        "\n",
        "\n",
        "def eval_estimator(m, eigfvh, eigv):    \n",
        "    # interior residual\n",
        "    basis = Basis(m, e)\n",
        "\n",
        "    grad_basis = basis.with_element(ElementVector(ElementDG(ElementTetP1()))) \n",
        "    w = {'grad_v': grad_basis.project(basis.interpolate(eigfvh).grad) }\n",
        "    vh = basis.interpolate(eigfvh)\n",
        "\n",
        "    @Functional \n",
        "    def interior_residual_vh(w): \n",
        "        h = w.h\n",
        "        x, y,z = w.x\n",
        "        (uxx, uxy,uxz), (uyx, uyy,uyz), (uzx, uzy,uzz) = w['grad_v'].grad \n",
        "        return h ** 2 * (uxx + uyy+uzz + eigv*vh) ** 2 \n",
        "\n",
        "    eta_K_vh = interior_residual_vh.elemental(grad_basis, **w) \n",
        "\n",
        "\n",
        "    # facet jump\n",
        "    fbasis = [InteriorFacetBasis(m, e, side=i) for i in [0, 1]]\n",
        "    # jump of vh\n",
        "    w = {'v' + str(i + 1): fbasis[i].interpolate(eigfvh) for i in [0, 1]}\n",
        "    \n",
        "    @Functional\n",
        "    def edge_jump_vh(w):\n",
        "        h = w.h\n",
        "        n = w.n\n",
        "        dw1 = grad(w['v1'])\n",
        "        dw2 = grad(w['v2'])\n",
        "        return h * ((dw1[0] - dw2[0]) * n[0] +\n",
        "                    (dw1[1] - dw2[1]) * n[1] +\n",
        "                    (dw1[2] - dw2[2]) * n[2]) ** 2\n",
        "\n",
        "    eta_E_vh = edge_jump_vh.elemental(fbasis[0], **w)\n",
        "    tmp_vh = np.zeros(m.facets.shape[1])\n",
        "    np.add.at(tmp_vh, fbasis[0].find, eta_E_vh)\n",
        "    eta_E_vh = np.sum(.5 * tmp_vh[m.t2f], axis=0)\n",
        "    \n",
        "    return eta_K_vh + eta_E_vh\n",
        "\n",
        "\n",
        "for itr in reversed(range(12)):\n",
        "        \n",
        "    basis = Basis(m, e)\n",
        "    \n",
        "    K = asm(laplace, basis)\n",
        "    M = asm(mass, basis)\n",
        "    D=basis.get_dofs()\n",
        "    Lh,eigen_uh = solve(*condense(K, M, D=D), solver=solver_eigen_scipy_sym(sigma=0,k=1))\n",
        "    eigv = Lh[0]\n",
        "    error = np.abs(eigv-3*np.pi**2)\n",
        "    eigen_uh = eigen_uh.flatten()\n",
        "    Dof = K.shape[0]\n",
        "    print(\"{},{},{},{},{}\".format(itr, m.param(), Dof, eigv, error))\n",
        "        \n",
        "    if itr > 0:\n",
        "        m = m.refined(adaptive_theta(eval_estimator(m, eigen_uh,eigv)))"
      ]
    },
    {
      "cell_type": "markdown",
      "metadata": {
        "id": "xJG32VL1StQF"
      },
      "source": [
        "# Using p3 elements adaptively"
      ]
    },
    {
      "cell_type": "code",
      "execution_count": null,
      "metadata": {
        "colab": {
          "base_uri": "https://localhost:8080/"
        },
        "id": "Ugv1quUUStQG",
        "outputId": "72af9cdf-7712-4952-b0f3-ab1f1754b62e"
      },
      "outputs": [
        {
          "output_type": "stream",
          "name": "stdout",
          "text": [
            "11,0.34641016151377557,4096,29.610201448711088,0.001388245443013858\n"
          ]
        },
        {
          "output_type": "stream",
          "name": "stderr",
          "text": [
            "Transforming over 1000 elements to C_CONTIGUOUS.\n"
          ]
        },
        {
          "output_type": "stream",
          "name": "stdout",
          "text": [
            "10,0.34641016151377557,5743,34.443115113394015,4.834301910125941\n"
          ]
        },
        {
          "output_type": "stream",
          "name": "stderr",
          "text": [
            "Transforming over 1000 elements to C_CONTIGUOUS.\n"
          ]
        },
        {
          "output_type": "stream",
          "name": "stdout",
          "text": [
            "9,0.3464101615137755,6409,35.80059383901864,6.191780635750565\n"
          ]
        },
        {
          "output_type": "stream",
          "name": "stderr",
          "text": [
            "Transforming over 1000 elements to C_CONTIGUOUS.\n"
          ]
        },
        {
          "output_type": "stream",
          "name": "stdout",
          "text": [
            "8,0.3464101615137755,6961,37.299082439771475,7.690269236503401\n"
          ]
        },
        {
          "output_type": "stream",
          "name": "stderr",
          "text": [
            "Transforming over 1000 elements to C_CONTIGUOUS.\n"
          ]
        },
        {
          "output_type": "stream",
          "name": "stdout",
          "text": [
            "7,0.3464101615137755,7627,37.38224725261639,7.773434049348314\n"
          ]
        },
        {
          "output_type": "stream",
          "name": "stderr",
          "text": [
            "Transforming over 1000 elements to C_CONTIGUOUS.\n"
          ]
        },
        {
          "output_type": "stream",
          "name": "stdout",
          "text": [
            "6,0.3464101615137755,10477,38.1063522038288,8.497539000560725\n"
          ]
        },
        {
          "output_type": "stream",
          "name": "stderr",
          "text": [
            "Transforming over 1000 elements to C_CONTIGUOUS.\n"
          ]
        },
        {
          "output_type": "stream",
          "name": "stdout",
          "text": [
            "5,0.3464101615137755,10933,37.88516277898642,8.276349575718346\n"
          ]
        },
        {
          "output_type": "stream",
          "name": "stderr",
          "text": [
            "Transforming over 1000 elements to C_CONTIGUOUS.\n"
          ]
        },
        {
          "output_type": "stream",
          "name": "stdout",
          "text": [
            "4,0.3464101615137755,15706,38.30431903207835,8.695505828810273\n"
          ]
        },
        {
          "output_type": "stream",
          "name": "stderr",
          "text": [
            "Transforming over 1000 elements to C_CONTIGUOUS.\n"
          ]
        },
        {
          "output_type": "stream",
          "name": "stdout",
          "text": [
            "3,0.3464101615137755,19801,38.769389504354116,9.160576301086042\n"
          ]
        },
        {
          "output_type": "stream",
          "name": "stderr",
          "text": [
            "Transforming over 1000 elements to C_CONTIGUOUS.\n"
          ]
        },
        {
          "output_type": "stream",
          "name": "stdout",
          "text": [
            "2,0.3464101615137755,22972,38.8688762403918,9.260063037123725\n"
          ]
        },
        {
          "output_type": "stream",
          "name": "stderr",
          "text": [
            "Transforming over 1000 vertices to C_CONTIGUOUS.\n",
            "Transforming over 1000 elements to C_CONTIGUOUS.\n"
          ]
        },
        {
          "output_type": "stream",
          "name": "stdout",
          "text": [
            "1,0.3464101615137755,26455,38.66783041160825,9.059017208340176\n"
          ]
        },
        {
          "output_type": "stream",
          "name": "stderr",
          "text": [
            "Transforming over 1000 vertices to C_CONTIGUOUS.\n",
            "Transforming over 1000 elements to C_CONTIGUOUS.\n"
          ]
        },
        {
          "output_type": "stream",
          "name": "stdout",
          "text": [
            "0,0.34641016151377535,37546,38.77234628275499,9.163533079486914\n"
          ]
        }
      ],
      "source": [
        "from skfem import *\n",
        "from skfem.models.poisson import laplace, mass\n",
        "from skfem.helpers import grad\n",
        "import numpy as np\n",
        "\n",
        "p = np.linspace(0, 1, 6)\n",
        "m = MeshTet.init_tensor(*(p,) * 3)\n",
        "e = ElementTetP3()\n",
        "\n",
        "\n",
        "def eval_estimator(m, eigfvh, eigv):    \n",
        "    # interior residual\n",
        "    basis = Basis(m, e)\n",
        "\n",
        "    grad_basis = basis.with_element(ElementVector(ElementDG(ElementTetP2()))) \n",
        "    w = {'grad_v': grad_basis.project(basis.interpolate(eigfvh).grad) }\n",
        "    vh = basis.interpolate(eigfvh)\n",
        "\n",
        "    @Functional \n",
        "    def interior_residual_vh(w): \n",
        "        h = w.h\n",
        "        x, y,z = w.x\n",
        "        (uxx, uxy,uxz), (uyx, uyy,uyz), (uzx, uzy,uzz) = w['grad_v'].grad \n",
        "        return h ** 2 * (uxx + uyy+uzz + eigv*vh) ** 2 \n",
        "\n",
        "    eta_K_vh = interior_residual_vh.elemental(grad_basis, **w) \n",
        "\n",
        "\n",
        "    # facet jump\n",
        "    fbasis = [InteriorFacetBasis(m, e, side=i) for i in [0, 1]]\n",
        "    # jump of vh\n",
        "    w = {'v' + str(i + 1): fbasis[i].interpolate(eigfvh) for i in [0, 1]}\n",
        "    \n",
        "    @Functional\n",
        "    def edge_jump_vh(w):\n",
        "        h = w.h\n",
        "        n = w.n\n",
        "        dw1 = grad(w['v1'])\n",
        "        dw2 = grad(w['v2'])\n",
        "        return h * ((dw1[0] - dw2[0]) * n[0] +\n",
        "                    (dw1[1] - dw2[1]) * n[1] +\n",
        "                    (dw1[2] - dw2[2]) * n[2]) ** 2\n",
        "\n",
        "    eta_E_vh = edge_jump_vh.elemental(fbasis[0], **w)\n",
        "    tmp_vh = np.zeros(m.facets.shape[1])\n",
        "    np.add.at(tmp_vh, fbasis[0].find, eta_E_vh)\n",
        "    eta_E_vh = np.sum(.5 * tmp_vh[m.t2f], axis=0)\n",
        "    \n",
        "    return eta_K_vh + eta_E_vh\n",
        "\n",
        "\n",
        "for itr in reversed(range(12)):\n",
        "        \n",
        "    basis = Basis(m, e)\n",
        "    \n",
        "    K = asm(laplace, basis)\n",
        "    M = asm(mass, basis)\n",
        "    D=basis.get_dofs()\n",
        "    Lh,eigen_uh = solve(*condense(K, M, D=D), solver=solver_eigen_scipy_sym(sigma=0,k=1))\n",
        "    eigv = Lh[0]\n",
        "    error = np.abs(eigv-3*np.pi**2)\n",
        "    eigen_uh = eigen_uh.flatten()\n",
        "    Dof = K.shape[0]\n",
        "    print(\"{},{},{},{},{}\".format(itr, m.param(), Dof, eigv, error))\n",
        "        \n",
        "    if itr > 0:\n",
        "        m = m.refined(adaptive_theta(eval_estimator(m, eigen_uh,eigv)))"
      ]
    },
    {
      "cell_type": "markdown",
      "metadata": {
        "id": "D9RfnRyzStQI"
      },
      "source": [
        "# Using p4 elements adaptively"
      ]
    },
    {
      "cell_type": "code",
      "source": [
        "from skfem import *\n",
        "from skfem.models.poisson import laplace, mass\n",
        "from skfem.helpers import grad\n",
        "import numpy as np\n",
        "\n",
        "p = np.linspace(0, 1, 6)\n",
        "m = MeshTet.init_tensor(*(p,) * 3)\n",
        "e = ElementTetP4()\n",
        "\n",
        "\n",
        "def eval_estimator(m, eigfvh, eigv):    \n",
        "    # interior residual\n",
        "    basis = Basis(m, e)\n",
        "\n",
        "    grad_basis = basis.with_element(ElementVector(ElementDG(ElementTetP3()))) \n",
        "    w = {'grad_v': grad_basis.project(basis.interpolate(eigfvh).grad) }\n",
        "    vh = basis.interpolate(eigfvh)\n",
        "\n",
        "    @Functional \n",
        "    def interior_residual_vh(w): \n",
        "        h = w.h\n",
        "        x, y,z = w.x\n",
        "        (uxx, uxy,uxz), (uyx, uyy,uyz), (uzx, uzy,uzz) = w['grad_v'].grad \n",
        "        return h ** 2 * (uxx + uyy+uzz + eigv*vh) ** 2 \n",
        "\n",
        "    eta_K_vh = interior_residual_vh.elemental(grad_basis, **w) \n",
        "\n",
        "\n",
        "    # facet jump\n",
        "    fbasis = [InteriorFacetBasis(m, e, side=i) for i in [0, 1]]\n",
        "    # jump of vh\n",
        "    w = {'v' + str(i + 1): fbasis[i].interpolate(eigfvh) for i in [0, 1]}\n",
        "    \n",
        "    @Functional\n",
        "    def edge_jump_vh(w):\n",
        "        h = w.h\n",
        "        n = w.n\n",
        "        dw1 = grad(w['v1'])\n",
        "        dw2 = grad(w['v2'])\n",
        "        return h * ((dw1[0] - dw2[0]) * n[0] +\n",
        "                    (dw1[1] - dw2[1]) * n[1] +\n",
        "                    (dw1[2] - dw2[2]) * n[2]) ** 2\n",
        "\n",
        "    eta_E_vh = edge_jump_vh.elemental(fbasis[0], **w)\n",
        "    tmp_vh = np.zeros(m.facets.shape[1])\n",
        "    np.add.at(tmp_vh, fbasis[0].find, eta_E_vh)\n",
        "    eta_E_vh = np.sum(.5 * tmp_vh[m.t2f], axis=0)\n",
        "    \n",
        "    return eta_K_vh + eta_E_vh\n",
        "\n",
        "\n",
        "for itr in reversed(range(6)):\n",
        "        \n",
        "    basis = Basis(m, e)\n",
        "    \n",
        "    K = asm(laplace, basis)\n",
        "    M = asm(mass, basis)\n",
        "    D=basis.get_dofs()\n",
        "    Lh,eigen_uh = solve(*condense(K, M, D=D), solver=solver_eigen_scipy_sym(sigma=0,k=1))\n",
        "    eigv = Lh[0]\n",
        "    error = np.abs(eigv-3*np.pi**2)\n",
        "    eigen_uh = eigen_uh.flatten()\n",
        "    Dof = K.shape[0]\n",
        "    print(\"{},{},{},{},{}\".format(itr, m.param(), Dof, eigv, error))\n",
        "        \n",
        "    if itr > 0:\n",
        "        m = m.refined(adaptive_theta(eval_estimator(m, eigen_uh,eigv)))"
      ],
      "metadata": {
        "colab": {
          "base_uri": "https://localhost:8080/"
        },
        "id": "4_JTVLdONKLd",
        "outputId": "9cc19728-5ec6-46f7-acf0-15bf6dfc8ffd"
      },
      "execution_count": null,
      "outputs": [
        {
          "output_type": "stream",
          "name": "stdout",
          "text": [
            "5,0.34641016151377557,9261,29.608825237876108,1.2034608033673067e-05\n"
          ]
        },
        {
          "output_type": "stream",
          "name": "stderr",
          "text": [
            "Transforming over 1000 elements to C_CONTIGUOUS.\n"
          ]
        },
        {
          "output_type": "stream",
          "name": "stdout",
          "text": [
            "4,0.34641016151377557,13997,39.87218445498515,10.263371251717079\n"
          ]
        },
        {
          "output_type": "stream",
          "name": "stderr",
          "text": [
            "Transforming over 1000 elements to C_CONTIGUOUS.\n"
          ]
        },
        {
          "output_type": "stream",
          "name": "stdout",
          "text": [
            "3,0.34641016151377557,17621,40.68697153428219,11.07815833101412\n"
          ]
        },
        {
          "output_type": "stream",
          "name": "stderr",
          "text": [
            "Transforming over 1000 elements to C_CONTIGUOUS.\n"
          ]
        },
        {
          "output_type": "stream",
          "name": "stdout",
          "text": [
            "2,0.34641016151377557,21785,39.92128229332504,10.312469090056968\n"
          ]
        },
        {
          "output_type": "stream",
          "name": "stderr",
          "text": [
            "Transforming over 1000 elements to C_CONTIGUOUS.\n"
          ]
        },
        {
          "output_type": "stream",
          "name": "stdout",
          "text": [
            "1,0.34641016151377557,26881,38.67292861657085,9.064115413302776\n"
          ]
        },
        {
          "output_type": "stream",
          "name": "stderr",
          "text": [
            "Transforming over 1000 elements to C_CONTIGUOUS.\n"
          ]
        },
        {
          "output_type": "stream",
          "name": "stdout",
          "text": [
            "0,0.34641016151377557,45685,39.39686921698523,9.788056013717156\n"
          ]
        }
      ]
    }
  ],
  "metadata": {
    "kernelspec": {
      "display_name": "Python 3",
      "language": "python",
      "name": "python3"
    },
    "language_info": {
      "codemirror_mode": {
        "name": "ipython",
        "version": 3
      },
      "file_extension": ".py",
      "mimetype": "text/x-python",
      "name": "python",
      "nbconvert_exporter": "python",
      "pygments_lexer": "ipython3",
      "version": "3.8.3"
    },
    "colab": {
      "name": "zhou_adaptive_tet.ipynb",
      "provenance": [],
      "collapsed_sections": [
        "fydEEMFUStPZ",
        "YllVI2NgHAGe",
        "AS7lGZaXStPv",
        "C1nkEv0fStP7",
        "FR-rI_NqIUe4",
        "xJG32VL1StQF",
        "D9RfnRyzStQI"
      ],
      "toc_visible": true,
      "include_colab_link": true
    }
  },
  "nbformat": 4,
  "nbformat_minor": 0
}